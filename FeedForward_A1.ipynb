{
  "cells": [
    {
      "cell_type": "markdown",
      "metadata": {
        "colab_type": "text",
        "id": "view-in-github"
      },
      "source": [
        "<a href=\"https://colab.research.google.com/github/KartikGondalia/CS6910_assignment1/blob/main/FeedForward_A1.ipynb\" target=\"_parent\"><img src=\"https://colab.research.google.com/assets/colab-badge.svg\" alt=\"Open In Colab\"/></a>"
      ]
    },
    {
      "cell_type": "markdown",
      "metadata": {
        "id": "VsBYUee9NpCF"
      },
      "source": [
        "# Question 1\n"
      ]
    },
    {
      "cell_type": "markdown",
      "metadata": {
        "id": "-aLCgOz1NzaP"
      },
      "source": [
        "## 1. Import Libraries"
      ]
    },
    {
      "cell_type": "code",
      "execution_count": 2,
      "metadata": {
        "id": "7903KmGfNuDh"
      },
      "outputs": [],
      "source": [
        "# !pip install tensorflow"
      ]
    },
    {
      "cell_type": "code",
      "execution_count": 3,
      "metadata": {
        "id": "lP8FFN0MNx20"
      },
      "outputs": [],
      "source": [
        "# !pip install Keras"
      ]
    },
    {
      "cell_type": "code",
      "execution_count": 17,
      "metadata": {
        "id": "Kx4-d-1TN5Yh"
      },
      "outputs": [],
      "source": [
        "import tensorflow as tf"
      ]
    },
    {
      "cell_type": "code",
      "execution_count": 18,
      "metadata": {
        "id": "ZRPEwVb-edPZ"
      },
      "outputs": [],
      "source": [
        "import pandas as pd\n",
        "import numpy as np\n",
        "import keras\n",
        "import matplotlib.pyplot as plt"
      ]
    },
    {
      "cell_type": "code",
      "execution_count": 19,
      "metadata": {
        "id": "c306i9w3ef2u"
      },
      "outputs": [],
      "source": [
        "from keras.datasets import fashion_mnist"
      ]
    },
    {
      "cell_type": "code",
      "execution_count": 20,
      "metadata": {},
      "outputs": [],
      "source": [
        "import argparse"
      ]
    },
    {
      "cell_type": "code",
      "execution_count": 21,
      "metadata": {},
      "outputs": [
        {
          "data": {
            "text/plain": [
              "_StoreAction(option_strings=['-a', '--activation'], dest='activation', nargs=None, const=None, default='sigmoid', type=<class 'str'>, choices=None, required=False, help='choices: [\"identity\", \"sigmoid\", \"tanh\", \"ReLU\"]', metavar=None)"
            ]
          },
          "execution_count": 21,
          "metadata": {},
          "output_type": "execute_result"
        }
      ],
      "source": [
        "parser = argparse.ArgumentParser()\n",
        "parser.add_argument('-wp' , '--wandb_project', help='Project name used to track experiments in Weights & Biases dashboard' , type=str, default='myprojectname')\n",
        "parser.add_argument('-we', '--wandb_entity' , help='Wandb Entity used to track experiments in the Weights & Biases dashboard.' , type=str, default='myname')\n",
        "parser.add_argument('-d', '--dataset', help='choices: [\"mnist\", \"fashion_mnist\"]', type=str, default='fashion_mnist')\n",
        "parser.add_argument('-e', '--epochs', help=\"Number of epochs to train neural network.\", type=int, default=1)\n",
        "parser.add_argument('-b', '--batch_size', help=\"Batch size used to train neural network.\", type=int, default=4)\n",
        "parser.add_argument('-l','--loss', help = 'hoices: [\"mean_squared_error\", \"cross_entropy\"]' , type=str, default='cross_entropy')\n",
        "parser.add_argument('-o', '--optimizer', help = 'choices: [\"sgd\", \"momentum\", \"nag\", \"rmsprop\", \"adam\", \"nadam\"]', type=str, default = 'sgd', required=True)\n",
        "parser.add_argument('-lr', '--learning_rate', help = 'Learning rate used to optimize model parameters', type=float, default=0.1)\n",
        "parser.add_argument('-m', '--momentum', help='Momentum used by momentum and nag optimizers.',type=float, default=0.5)\n",
        "parser.add_argument('-beta', '--beta', help='Beta used by rmsprop optimizer',type=float, default=0.5)\n",
        "parser.add_argument('-beta1', '--beta1', help='Beta1 used by adam and nadam optimizers.',type=float, default=0.5)\n",
        "parser.add_argument('-beta2', '--beta2', help='Beta2 used by adam and nadam optimizers.',type=float, default=0.5)\n",
        "parser.add_argument('-eps', '--epsilon', help='Epsilon used by optimizers.',type=float, default=0.000001)\n",
        "parser.add_argument('-w_d', '--weight_decay', help='Weight decay used by optimizers.',type=float, default=.0)\n",
        "parser.add_argument('-w_i', '--weight_init', help = 'choices: [\"random\", \"Xavier\"]', type=str, default='random')\n",
        "parser.add_argument('-nhl', '--num_layers', help='Number of hidden layers used in feedforward neural network.',type=int, default=1)\n",
        "parser.add_argument('-sz', '--hidden_size', help ='Number of hidden neurons in a feedforward layer.', nargs='+', type=int, default=4, required=False)\n",
        "parser.add_argument('-a', '--activation', help='choices: [\"identity\", \"sigmoid\", \"tanh\", \"ReLU\"]', type=str, default='sigmoid')"
      ]
    },
    {
      "cell_type": "markdown",
      "metadata": {
        "id": "Xrim4WnMejEl"
      },
      "source": [
        "## 2. Load the data"
      ]
    },
    {
      "cell_type": "code",
      "execution_count": 22,
      "metadata": {
        "colab": {
          "base_uri": "https://localhost:8080/"
        },
        "id": "bxZDVb_heh9q",
        "outputId": "3e381c1a-eb94-414b-c770-85b548dc6110"
      },
      "outputs": [],
      "source": [
        "# (x_train, y_train), (x_test, y_test) = fashion_mnist.load_data()\n",
        "df = fashion_mnist.load_data()"
      ]
    },
    {
      "cell_type": "code",
      "execution_count": 36,
      "metadata": {
        "colab": {
          "base_uri": "https://localhost:8080/"
        },
        "id": "h4qhkoLQeqAo",
        "outputId": "0b9da8a5-109d-4e32-8e69-a30bd7cfba63"
      },
      "outputs": [],
      "source": [
        "(x_train, y_train), (x_test, y_test) = df\n",
        "number_of_example = x_train.shape[0]\n",
        "x_train = x_train.astype('float64')\n",
        "y_train = y_train.astype('float64')\n",
        "x_test = x_test.astype('float64')\n",
        "y_test = y_test.astype('float64')\n",
        "\n",
        "x_train = x_train.reshape(number_of_example, 28*28)\n",
        "y_train = y_train.reshape(y_train.shape[0], 1)\n",
        "\n",
        "x_test = x_test.reshape(x_test.shape[0], 28*28)\n",
        "y_test = y_test.reshape(y_test.shape[0], 1)"
      ]
    },
    {
      "cell_type": "code",
      "execution_count": 27,
      "metadata": {
        "colab": {
          "base_uri": "https://localhost:8080/"
        },
        "id": "9AVj6SihesvU",
        "outputId": "7bd4fff3-5843-49d1-c493-b950bdefb45f"
      },
      "outputs": [
        {
          "data": {
            "text/plain": [
              "(60000, 784)"
            ]
          },
          "execution_count": 27,
          "metadata": {},
          "output_type": "execute_result"
        }
      ],
      "source": [
        "x_train.shape"
      ]
    },
    {
      "cell_type": "code",
      "execution_count": 39,
      "metadata": {},
      "outputs": [
        {
          "data": {
            "text/plain": [
              "(60000, 1)"
            ]
          },
          "execution_count": 39,
          "metadata": {},
          "output_type": "execute_result"
        }
      ],
      "source": [
        "y_train.shape"
      ]
    },
    {
      "cell_type": "code",
      "execution_count": 38,
      "metadata": {
        "colab": {
          "base_uri": "https://localhost:8080/"
        },
        "id": "CF0yTyvaevkA",
        "outputId": "da1db9dd-94ee-4d35-9c55-329d8410d3f5"
      },
      "outputs": [
        {
          "data": {
            "text/plain": [
              "array([[0., 0., 0., ..., 0., 0., 1.],\n",
              "       [1., 0., 0., ..., 0., 0., 0.],\n",
              "       [1., 0., 0., ..., 0., 0., 0.],\n",
              "       ...,\n",
              "       [0., 0., 0., ..., 0., 0., 0.],\n",
              "       [1., 0., 0., ..., 0., 0., 0.],\n",
              "       [0., 0., 0., ..., 0., 0., 0.]])"
            ]
          },
          "execution_count": 38,
          "metadata": {},
          "output_type": "execute_result"
        }
      ],
      "source": [
        "def one_hot_encoder(data):\n",
        "    classes = np.unique(y_train)\n",
        "    n_classes = classes.shape[0]\n",
        "    zero_provider = np.zeros(n_classes)\n",
        "    ret = np.zeros((data.shape[0], n_classes))\n",
        "    _dictionary = {elm: id for id, elm in enumerate(classes)}\n",
        "    for id, elm in enumerate(data):\n",
        "        temp = zero_provider.copy()\n",
        "        temp[_dictionary[elm[0]]] = 1\n",
        "        ret[id] = temp\n",
        "    \n",
        "    return ret\n",
        "\n",
        "y_train = one_hot_encoder(y_train)\n"
      ]
    },
    {
      "cell_type": "code",
      "execution_count": 13,
      "metadata": {
        "colab": {
          "base_uri": "https://localhost:8080/",
          "height": 268
        },
        "id": "RLuG2wkTe4um",
        "outputId": "96c3e665-cdb8-4bbc-d170-386ad4a12113"
      },
      "outputs": [
        {
          "data": {
            "image/png": "[encoded data removed]",
            "text/plain": [
              "<Figure size 640x480 with 10 Axes>"
            ]
          },
          "metadata": {},
          "output_type": "display_data"
        }
      ],
      "source": [
        "\n",
        "# for i in range(1, 11):\n",
        "#     # Create a 3x3 grid and place the\n",
        "#     # image in ith position of grid\n",
        "#     plt.subplot(3, 4, i)\n",
        "#     # Insert ith image with the color map 'grap'\n",
        "#     plt.imshow(X_train[i], cmap=plt.get_cmap('gray'))\n",
        " \n",
        "# # Display the entire plot\n",
        "# plt.show()"
      ]
    },
    {
      "attachments": {},
      "cell_type": "markdown",
      "metadata": {},
      "source": [
        "## Question 2"
      ]
    },
    {
      "cell_type": "code",
      "execution_count": 16,
      "metadata": {},
      "outputs": [],
      "source": [
        "class ffd:\n",
        "    def __init__(self):\n",
        "        self.num_of_layers = 0\n",
        "    def relu(self,x):\n",
        "        return (np.maximum(0,x))\n",
        "    def softmax(self,x):\n",
        "        return (np.exp(x)/np.exp(x).sum())\n",
        "    def logloss(self,y,a):\n",
        "        return -(y*np.log(a) + (1-y)*np.log(1-a))\n",
        "    def init_params(self, inputs, neurons)\n",
        "        self.W = np.random.randn(neurons, inputs)\n",
        "        self.b = np.zeros(neurons, 1)\n",
        "\n",
        "    def init(self, type=\"wb\", mode = \"random\", printdims = False):\n",
        "        if type == \"wb\" and mode == \"random\":\n",
        "            self.init_random(printdims)\n",
        "        elif type == \"wb\" and mode == \"xavier\":\n",
        "            self.init_xavier(printdims)\n",
        "        elif type==\"grads\":\n",
        "            self.init_gradient(printdims)\n",
        "\n",
        "    def init_random(self, printdims = False):\n",
        "        self.params = {}\n",
        "        for i in range(1, self.number_of_layers):\n",
        "            self.params[\"W\" + str(i)] = np.random.randn(self.layers[i], self.layers[i-1])*0.03\n",
        "            self.params[\"b\" + str(i)] = np.random.randn(self.layers[i], 1)\n",
        "            if(printdims == True):\n",
        "                print(\"W\", {i}, \" -> \", self.params[\"W\" + str(i)])\n",
        "                print(\"b\", {i}, \" -> \", self.params[\"b\" + str(i)])\n",
        "    \n",
        "    def init_xavier(self, printdims = False):\n",
        "        self.params = {}\n",
        "        for i in range(1, self.number_of_layers):\n",
        "            self.parameters[\"W\" + str(i)] = np.random.randn(self.layers[i], self.layers[i - 1]) * np.sqrt(2/ (self.layers[i - 1] + self.layers[i]))\n",
        "            self.parameters[\"b\" + str(i)] = np.zeros((self.layers[i], 1))\n",
        "            if(printdims == True):\n",
        "                print(\"W\", {i}, \" -> \", self.params[\"W\" + str(i)])\n",
        "                print(\"b\", {i}, \" -> \", self.params[\"b\" + str(i)])\n",
        "    \n",
        "    def init_gradient(self, printdims = False):\n",
        "        dump = {}\n",
        "        for i in range(1, self.num_of_layers):\n",
        "            dump[\"Wg\" + str(i)] = np.zeros((self.layers[i], self.layers[i - 1]))\n",
        "            dump[\"bg\" + str(i)] = np.zeros((self.layers[i], 1))\n",
        "            if(printdims == True):\n",
        "                print(\"Wg\", {i}, \" -> \", dump[\"Wg\" + str(i)])\n",
        "                print(\"bg\", {i}, \" -> \", dump[\"bg\" + str(i)])\n"
      ]
    },
    {
      "cell_type": "code",
      "execution_count": null,
      "metadata": {},
      "outputs": [],
      "source": []
    }
  ],
  "metadata": {
    "colab": {
      "authorship_tag": "ABX9TyMFH1CvBwBtqBgqijhyJfOM",
      "include_colab_link": true,
      "provenance": []
    },
    "kernelspec": {
      "display_name": "Python 3",
      "language": "python",
      "name": "python3"
    },
    "language_info": {
      "codemirror_mode": {
        "name": "ipython",
        "version": 3
      },
      "file_extension": ".py",
      "mimetype": "text/x-python",
      "name": "python",
      "nbconvert_exporter": "python",
      "pygments_lexer": "ipython3",
      "version": "3.10.10"
    },
    "vscode": {
      "interpreter": {
        "hash": "52d8b2cce12626a75dd80ec0b1f091e4d58d5d6264935d28de4f6beb60559a88"
      }
    }
  },
  "nbformat": 4,
  "nbformat_minor": 0
}
